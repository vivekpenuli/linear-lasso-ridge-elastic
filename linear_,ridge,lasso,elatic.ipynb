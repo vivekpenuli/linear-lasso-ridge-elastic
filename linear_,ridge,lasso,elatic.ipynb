{
  "nbformat": 4,
  "nbformat_minor": 0,
  "metadata": {
    "colab": {
      "name": "linear ,ridge,lasso,elatic",
      "provenance": [],
      "collapsed_sections": [],
      "authorship_tag": "ABX9TyN9f9PtxWhrN7Ybbbi2hDJU",
      "include_colab_link": true
    },
    "kernelspec": {
      "name": "python3",
      "display_name": "Python 3"
    }
  },
  "cells": [
    {
      "cell_type": "markdown",
      "metadata": {
        "id": "view-in-github",
        "colab_type": "text"
      },
      "source": [
        "<a href=\"https://colab.research.google.com/github/vivekpenuli/linear-lasso-ridge-elastic/blob/master/linear_%2Cridge%2Classo%2Celatic.ipynb\" target=\"_parent\"><img src=\"https://colab.research.google.com/assets/colab-badge.svg\" alt=\"Open In Colab\"/></a>"
      ]
    },
    {
      "cell_type": "code",
      "metadata": {
        "id": "cTcLgV2C2oL8",
        "colab_type": "code",
        "colab": {}
      },
      "source": [
        "import pandas as pd"
      ],
      "execution_count": 1,
      "outputs": []
    },
    {
      "cell_type": "code",
      "metadata": {
        "id": "3P9ZhNZx4CkP",
        "colab_type": "code",
        "colab": {
          "base_uri": "https://localhost:8080/",
          "height": 204
        },
        "outputId": "b092fa9d-5e91-4300-a7bd-0527eac03c23"
      },
      "source": [
        "url=\"https://raw.githubusercontent.com/vivekpenuli/linear-lasso-ridge-elastic/master/Advertising.csv\"\n",
        "df=pd.read_csv(url,index_col=0)\n",
        "df.head(5)"
      ],
      "execution_count": 2,
      "outputs": [
        {
          "output_type": "execute_result",
          "data": {
            "text/html": [
              "<div>\n",
              "<style scoped>\n",
              "    .dataframe tbody tr th:only-of-type {\n",
              "        vertical-align: middle;\n",
              "    }\n",
              "\n",
              "    .dataframe tbody tr th {\n",
              "        vertical-align: top;\n",
              "    }\n",
              "\n",
              "    .dataframe thead th {\n",
              "        text-align: right;\n",
              "    }\n",
              "</style>\n",
              "<table border=\"1\" class=\"dataframe\">\n",
              "  <thead>\n",
              "    <tr style=\"text-align: right;\">\n",
              "      <th></th>\n",
              "      <th>TV</th>\n",
              "      <th>radio</th>\n",
              "      <th>newspaper</th>\n",
              "      <th>sales</th>\n",
              "    </tr>\n",
              "  </thead>\n",
              "  <tbody>\n",
              "    <tr>\n",
              "      <th>1</th>\n",
              "      <td>230.1</td>\n",
              "      <td>37.8</td>\n",
              "      <td>69.2</td>\n",
              "      <td>22.1</td>\n",
              "    </tr>\n",
              "    <tr>\n",
              "      <th>2</th>\n",
              "      <td>44.5</td>\n",
              "      <td>39.3</td>\n",
              "      <td>45.1</td>\n",
              "      <td>10.4</td>\n",
              "    </tr>\n",
              "    <tr>\n",
              "      <th>3</th>\n",
              "      <td>17.2</td>\n",
              "      <td>45.9</td>\n",
              "      <td>69.3</td>\n",
              "      <td>9.3</td>\n",
              "    </tr>\n",
              "    <tr>\n",
              "      <th>4</th>\n",
              "      <td>151.5</td>\n",
              "      <td>41.3</td>\n",
              "      <td>58.5</td>\n",
              "      <td>18.5</td>\n",
              "    </tr>\n",
              "    <tr>\n",
              "      <th>5</th>\n",
              "      <td>180.8</td>\n",
              "      <td>10.8</td>\n",
              "      <td>58.4</td>\n",
              "      <td>12.9</td>\n",
              "    </tr>\n",
              "  </tbody>\n",
              "</table>\n",
              "</div>"
            ],
            "text/plain": [
              "      TV  radio  newspaper  sales\n",
              "1  230.1   37.8       69.2   22.1\n",
              "2   44.5   39.3       45.1   10.4\n",
              "3   17.2   45.9       69.3    9.3\n",
              "4  151.5   41.3       58.5   18.5\n",
              "5  180.8   10.8       58.4   12.9"
            ]
          },
          "metadata": {
            "tags": []
          },
          "execution_count": 2
        }
      ]
    },
    {
      "cell_type": "code",
      "metadata": {
        "id": "yTApnkHD4Crm",
        "colab_type": "code",
        "colab": {}
      },
      "source": [
        "feature_col=['TV','radio','newspaper']\n",
        "x=df[feature_col]\n",
        "y=df.sales"
      ],
      "execution_count": 3,
      "outputs": []
    },
    {
      "cell_type": "code",
      "metadata": {
        "id": "7POlTZQj4CvP",
        "colab_type": "code",
        "colab": {
          "base_uri": "https://localhost:8080/",
          "height": 204
        },
        "outputId": "e47e815b-4ef4-4e34-d546-ba7c65ad5667"
      },
      "source": [
        "x.head(5)"
      ],
      "execution_count": 4,
      "outputs": [
        {
          "output_type": "execute_result",
          "data": {
            "text/html": [
              "<div>\n",
              "<style scoped>\n",
              "    .dataframe tbody tr th:only-of-type {\n",
              "        vertical-align: middle;\n",
              "    }\n",
              "\n",
              "    .dataframe tbody tr th {\n",
              "        vertical-align: top;\n",
              "    }\n",
              "\n",
              "    .dataframe thead th {\n",
              "        text-align: right;\n",
              "    }\n",
              "</style>\n",
              "<table border=\"1\" class=\"dataframe\">\n",
              "  <thead>\n",
              "    <tr style=\"text-align: right;\">\n",
              "      <th></th>\n",
              "      <th>TV</th>\n",
              "      <th>radio</th>\n",
              "      <th>newspaper</th>\n",
              "    </tr>\n",
              "  </thead>\n",
              "  <tbody>\n",
              "    <tr>\n",
              "      <th>1</th>\n",
              "      <td>230.1</td>\n",
              "      <td>37.8</td>\n",
              "      <td>69.2</td>\n",
              "    </tr>\n",
              "    <tr>\n",
              "      <th>2</th>\n",
              "      <td>44.5</td>\n",
              "      <td>39.3</td>\n",
              "      <td>45.1</td>\n",
              "    </tr>\n",
              "    <tr>\n",
              "      <th>3</th>\n",
              "      <td>17.2</td>\n",
              "      <td>45.9</td>\n",
              "      <td>69.3</td>\n",
              "    </tr>\n",
              "    <tr>\n",
              "      <th>4</th>\n",
              "      <td>151.5</td>\n",
              "      <td>41.3</td>\n",
              "      <td>58.5</td>\n",
              "    </tr>\n",
              "    <tr>\n",
              "      <th>5</th>\n",
              "      <td>180.8</td>\n",
              "      <td>10.8</td>\n",
              "      <td>58.4</td>\n",
              "    </tr>\n",
              "  </tbody>\n",
              "</table>\n",
              "</div>"
            ],
            "text/plain": [
              "      TV  radio  newspaper\n",
              "1  230.1   37.8       69.2\n",
              "2   44.5   39.3       45.1\n",
              "3   17.2   45.9       69.3\n",
              "4  151.5   41.3       58.5\n",
              "5  180.8   10.8       58.4"
            ]
          },
          "metadata": {
            "tags": []
          },
          "execution_count": 4
        }
      ]
    },
    {
      "cell_type": "code",
      "metadata": {
        "id": "cBzPiF_O4CyQ",
        "colab_type": "code",
        "colab": {
          "base_uri": "https://localhost:8080/",
          "height": 119
        },
        "outputId": "a384b630-5b3f-4025-ca0a-f32ac33e2d2e"
      },
      "source": [
        "y.head(5)"
      ],
      "execution_count": 5,
      "outputs": [
        {
          "output_type": "execute_result",
          "data": {
            "text/plain": [
              "1    22.1\n",
              "2    10.4\n",
              "3     9.3\n",
              "4    18.5\n",
              "5    12.9\n",
              "Name: sales, dtype: float64"
            ]
          },
          "metadata": {
            "tags": []
          },
          "execution_count": 5
        }
      ]
    },
    {
      "cell_type": "code",
      "metadata": {
        "id": "aYN3qR2e4Cpr",
        "colab_type": "code",
        "colab": {}
      },
      "source": [
        "import matplotlib.pyplot as plt\n",
        "def scatter_plot(feature,target):\n",
        "  plt.figure(figsize=(8,6))\n",
        "  plt.scatter(df[feature],df[target],c='red',marker='o')\n",
        "  plt.xlabel(feature)\n",
        "  plt.ylabel(target)"
      ],
      "execution_count": 6,
      "outputs": []
    },
    {
      "cell_type": "code",
      "metadata": {
        "id": "UVHDTskVEiA3",
        "colab_type": "code",
        "colab": {
          "base_uri": "https://localhost:8080/",
          "height": 388
        },
        "outputId": "8691afe9-480b-419d-dc9a-33445d94ab21"
      },
      "source": [
        "scatter_plot('TV','sales')"
      ],
      "execution_count": 7,
      "outputs": [
        {
          "output_type": "display_data",
          "data": {
            "image/png": "[encoded data removed]",
            "text/plain": [
              "<Figure size 576x432 with 1 Axes>"
            ]
          },
          "metadata": {
            "tags": [],
            "needs_background": "light"
          }
        }
      ]
    },
    {
      "cell_type": "markdown",
      "metadata": {
        "id": "dvGcyNyqFwZj",
        "colab_type": "text"
      },
      "source": [
        "linear regreesion line with: tv vs sales"
      ]
    },
    {
      "cell_type": "code",
      "metadata": {
        "id": "NoCpYhWrFvM6",
        "colab_type": "code",
        "colab": {}
      },
      "source": [
        "x_tv=df[['TV']]\n",
        "y_tv=df[['sales']]\n",
        "from sklearn.model_selection import train_test_split\n",
        "X_train, X_test, y_train, y_test = train_test_split(x_tv,y_tv,test_size=0.2)"
      ],
      "execution_count": 8,
      "outputs": []
    },
    {
      "cell_type": "code",
      "metadata": {
        "id": "umAbzEFGGGrz",
        "colab_type": "code",
        "colab": {}
      },
      "source": [
        "from sklearn.linear_model import LinearRegression\n",
        "from sklearn.model_selection import cross_val_score\n",
        "model1=LinearRegression()\n",
        "model1.fit(X_train,y_train)\n",
        "pre=model1.predict(X_test)"
      ],
      "execution_count": 9,
      "outputs": []
    },
    {
      "cell_type": "code",
      "metadata": {
        "id": "tWmdg71UBGIM",
        "colab_type": "code",
        "colab": {
          "base_uri": "https://localhost:8080/",
          "height": 129
        },
        "outputId": "1261c128-edfb-452b-8a12-545aa42d2543"
      },
      "source": [
        "in cross validation we do neg mean squared eror"
      ],
      "execution_count": 10,
      "outputs": [
        {
          "output_type": "error",
          "ename": "SyntaxError",
          "evalue": "ignored",
          "traceback": [
            "\u001b[0;36m  File \u001b[0;32m\"<ipython-input-10-8ab246c92dfe>\"\u001b[0;36m, line \u001b[0;32m1\u001b[0m\n\u001b[0;31m    in cross validation we do neg mean squared eror\u001b[0m\n\u001b[0m     ^\u001b[0m\n\u001b[0;31mSyntaxError\u001b[0m\u001b[0;31m:\u001b[0m invalid syntax\n"
          ]
        }
      ]
    },
    {
      "cell_type": "code",
      "metadata": {
        "id": "kKmIWWPR_W00",
        "colab_type": "code",
        "colab": {}
      },
      "source": [
        "score=cross_val_score(LinearRegression(),X_train,y_train,cv=10,scoring='neg_mean_squared_error')\n",
        "print(score.mean())"
      ],
      "execution_count": null,
      "outputs": []
    },
    {
      "cell_type": "markdown",
      "metadata": {
        "id": "5C_dv1kcA0mC",
        "colab_type": "text"
      },
      "source": [
        "mean squared error"
      ]
    },
    {
      "cell_type": "code",
      "metadata": {
        "id": "XAk9Z8g2AZ0A",
        "colab_type": "code",
        "colab": {}
      },
      "source": [
        "mse_score=-score\n",
        "print(mse_score.mean())\n"
      ],
      "execution_count": null,
      "outputs": []
    },
    {
      "cell_type": "markdown",
      "metadata": {
        "id": "x8gjmGbxAxpf",
        "colab_type": "text"
      },
      "source": [
        "root mean squared error"
      ]
    },
    {
      "cell_type": "code",
      "metadata": {
        "id": "bsSAnkWUAj6V",
        "colab_type": "code",
        "colab": {}
      },
      "source": [
        "import numpy as np\n",
        "rsme_score=np.sqrt(mse_score)  \n",
        "print(rsme_score.mean())"
      ],
      "execution_count": null,
      "outputs": []
    },
    {
      "cell_type": "markdown",
      "metadata": {
        "id": "hH2XGvTHO0BI",
        "colab_type": "text"
      },
      "source": [
        "here we are testing our line in test set not in train set\n",
        "not in  ::here the line is drawn on train set\n"
      ]
    },
    {
      "cell_type": "code",
      "metadata": {
        "id": "PjG1dIs3GGvz",
        "colab_type": "code",
        "colab": {}
      },
      "source": [
        "plt.figure(figsize=(10,10))\n",
        "plt.subplot(2,2,1)\n",
        "plt.scatter(X_test,y_test,c='blue',marker='o', label='test point')\n",
        "plt.plot(X_test,pre ,label='predict line')\n",
        "plt.legend(loc='upper left')\n",
        "plt.legend(loc='upper left')\n",
        "plt.xlabel('tv')\n",
        "plt.ylabel('sales')\n",
        "\n",
        "#plt.figure()\n",
        "plt.subplot(2,2,2)\n",
        "plt.scatter(X_train,y_train,c='red',marker='o', label='train o point')\n",
        "plt.plot(X_test,pre ,label='predict line')\n",
        "\n",
        "plt.legend('upper left')\n",
        "plt.legend(\"upper left\")\n",
        "plt.xlabel('tv')\n",
        "plt.ylabel('sales')"
      ],
      "execution_count": null,
      "outputs": []
    },
    {
      "cell_type": "code",
      "metadata": {
        "id": "bkcLUFo6GG0A",
        "colab_type": "code",
        "colab": {
          "base_uri": "https://localhost:8080/",
          "height": 34
        },
        "outputId": "ddb0719d-8fe7-46e8-ee69-39d85b1a1feb"
      },
      "source": [
        "model1.coef_"
      ],
      "execution_count": 11,
      "outputs": [
        {
          "output_type": "execute_result",
          "data": {
            "text/plain": [
              "array([[0.04817324]])"
            ]
          },
          "metadata": {
            "tags": []
          },
          "execution_count": 11
        }
      ]
    },
    {
      "cell_type": "code",
      "metadata": {
        "id": "Pj-mcxk6-8GO",
        "colab_type": "code",
        "colab": {
          "base_uri": "https://localhost:8080/",
          "height": 34
        },
        "outputId": "01acfbe1-23af-4e8e-a8b0-dfca72025ded"
      },
      "source": [
        "model1.intercept_"
      ],
      "execution_count": 12,
      "outputs": [
        {
          "output_type": "execute_result",
          "data": {
            "text/plain": [
              "array([6.9944269])"
            ]
          },
          "metadata": {
            "tags": []
          },
          "execution_count": 12
        }
      ]
    },
    {
      "cell_type": "markdown",
      "metadata": {
        "id": "4eL2ohdpVCZQ",
        "colab_type": "text"
      },
      "source": [
        "tv sale with lasso"
      ]
    },
    {
      "cell_type": "code",
      "metadata": {
        "id": "pJ9gqwtJU0bL",
        "colab_type": "code",
        "colab": {}
      },
      "source": [
        "from sklearn.linear_model import Lasso\n",
        "model11=Lasso(alpha=60.475)\n",
        "model11.fit(X_train,y_train)\n",
        "pre11=model11.predict(X_test)"
      ],
      "execution_count": 13,
      "outputs": []
    },
    {
      "cell_type": "code",
      "metadata": {
        "id": "M8BPG_apVwPf",
        "colab_type": "code",
        "colab": {
          "base_uri": "https://localhost:8080/",
          "height": 34
        },
        "outputId": "ba07a145-6d8b-41f7-b7c0-d1a1cae9a1e4"
      },
      "source": [
        "score12=cross_val_score(Lasso(alpha=60.475),X_train,y_train,cv=10,scoring='neg_mean_squared_error')\n",
        "print(score12.mean())"
      ],
      "execution_count": 14,
      "outputs": [
        {
          "output_type": "stream",
          "text": [
            "-11.313901698776165\n"
          ],
          "name": "stdout"
        }
      ]
    },
    {
      "cell_type": "code",
      "metadata": {
        "id": "LKnnEuIZU0Tl",
        "colab_type": "code",
        "colab": {
          "base_uri": "https://localhost:8080/",
          "height": 326
        },
        "outputId": "8f7fd8b6-a0a5-4588-d784-c0892bfd0c8d"
      },
      "source": [
        "plt.figure(figsize=(10,10))\n",
        "plt.subplot(2,2,1)\n",
        "plt.scatter(X_test,y_test,c='blue',marker='o', label='test point')\n",
        "plt.plot(X_test,pre11 ,label='predict line')\n",
        "plt.legend(loc='upper left')\n",
        "plt.legend(loc='upper left')\n",
        "plt.xlabel('tv')\n",
        "plt.ylabel('sales')\n",
        "\n",
        "#plt.figure()\n",
        "plt.subplot(2,2,2)\n",
        "plt.scatter(X_train,y_train,c='red',marker='o', label='train o point')\n",
        "plt.plot(X_test,pre11 ,label='predict line')\n",
        "\n",
        "plt.legend('upper left')\n",
        "plt.legend(\"upper left\")\n",
        "plt.xlabel('tv')\n",
        "plt.ylabel('sales')"
      ],
      "execution_count": 15,
      "outputs": [
        {
          "output_type": "execute_result",
          "data": {
            "text/plain": [
              "Text(0, 0.5, 'sales')"
            ]
          },
          "metadata": {
            "tags": []
          },
          "execution_count": 15
        },
        {
          "output_type": "display_data",
          "data": {
            "image/png": "[encoded data removed]",
            "text/plain": [
              "<Figure size 720x720 with 2 Axes>"
            ]
          },
          "metadata": {
            "tags": [],
            "needs_background": "light"
          }
        }
      ]
    },
    {
      "cell_type": "markdown",
      "metadata": {
        "id": "57OkKgH-DhyK",
        "colab_type": "text"
      },
      "source": [
        "radio vs sales"
      ]
    },
    {
      "cell_type": "code",
      "metadata": {
        "id": "ra7A4UdFDjeo",
        "colab_type": "code",
        "colab": {}
      },
      "source": [
        "x_radio=df[['radio']]\n",
        "y_radio=df[['sales']]\n",
        "X_train1, X_test1, y_train1, y_test1 = train_test_split(x_radio,y_radio,test_size=0.2)"
      ],
      "execution_count": 16,
      "outputs": []
    },
    {
      "cell_type": "code",
      "metadata": {
        "id": "Q78jCNIkDjau",
        "colab_type": "code",
        "colab": {}
      },
      "source": [
        "model2=LinearRegression()\n",
        "model2.fit(X_train1,y_train1)\n",
        "pre1=model2.predict(X_test1)"
      ],
      "execution_count": 17,
      "outputs": []
    },
    {
      "cell_type": "code",
      "metadata": {
        "id": "yaiL-2tODjVh",
        "colab_type": "code",
        "colab": {
          "base_uri": "https://localhost:8080/",
          "height": 34
        },
        "outputId": "8ee67783-5e2e-4a86-f8f1-73279081efc3"
      },
      "source": [
        "score=cross_val_score(LinearRegression(),X_train1,y_train1,cv=10,scoring='neg_mean_squared_error')\n",
        "print(score.mean())"
      ],
      "execution_count": 18,
      "outputs": [
        {
          "output_type": "stream",
          "text": [
            "-18.52858419556942\n"
          ],
          "name": "stdout"
        }
      ]
    },
    {
      "cell_type": "code",
      "metadata": {
        "id": "J7jDAWBRDjKK",
        "colab_type": "code",
        "colab": {
          "base_uri": "https://localhost:8080/",
          "height": 34
        },
        "outputId": "aee24a63-4107-4d8e-ec85-05305e250008"
      },
      "source": [
        "mse_score=-score\n",
        "print(mse_score.mean())"
      ],
      "execution_count": 19,
      "outputs": [
        {
          "output_type": "stream",
          "text": [
            "18.52858419556942\n"
          ],
          "name": "stdout"
        }
      ]
    },
    {
      "cell_type": "code",
      "metadata": {
        "id": "mn64HFaED5rs",
        "colab_type": "code",
        "colab": {
          "base_uri": "https://localhost:8080/",
          "height": 180
        },
        "outputId": "643d5435-00f7-42ae-806f-ffb9b96dcf0c"
      },
      "source": [
        "rsme_score=np.sqrt(mse_score)  \n",
        "print(rsme_score.mean())"
      ],
      "execution_count": 20,
      "outputs": [
        {
          "output_type": "error",
          "ename": "NameError",
          "evalue": "ignored",
          "traceback": [
            "\u001b[0;31m---------------------------------------------------------------------------\u001b[0m",
            "\u001b[0;31mNameError\u001b[0m                                 Traceback (most recent call last)",
            "\u001b[0;32m<ipython-input-20-bbb454cea3ae>\u001b[0m in \u001b[0;36m<module>\u001b[0;34m()\u001b[0m\n\u001b[0;32m----> 1\u001b[0;31m \u001b[0mrsme_score\u001b[0m\u001b[0;34m=\u001b[0m\u001b[0mnp\u001b[0m\u001b[0;34m.\u001b[0m\u001b[0msqrt\u001b[0m\u001b[0;34m(\u001b[0m\u001b[0mmse_score\u001b[0m\u001b[0;34m)\u001b[0m\u001b[0;34m\u001b[0m\u001b[0;34m\u001b[0m\u001b[0m\n\u001b[0m\u001b[1;32m      2\u001b[0m \u001b[0mprint\u001b[0m\u001b[0;34m(\u001b[0m\u001b[0mrsme_score\u001b[0m\u001b[0;34m.\u001b[0m\u001b[0mmean\u001b[0m\u001b[0;34m(\u001b[0m\u001b[0;34m)\u001b[0m\u001b[0;34m)\u001b[0m\u001b[0;34m\u001b[0m\u001b[0;34m\u001b[0m\u001b[0m\n",
            "\u001b[0;31mNameError\u001b[0m: name 'np' is not defined"
          ]
        }
      ]
    },
    {
      "cell_type": "code",
      "metadata": {
        "id": "8UF_iRw5B4UD",
        "colab_type": "code",
        "colab": {
          "base_uri": "https://localhost:8080/",
          "height": 326
        },
        "outputId": "3ecb9fc3-d0cb-49f7-eea3-5f39036dde7e"
      },
      "source": [
        "plt.figure(figsize=(10,10))\n",
        "plt.subplot(2,2,1)\n",
        "plt.scatter(X_test1,y_test1,c='blue',marker='o', label='test point')\n",
        "plt.plot(X_test1,pre1 ,label='predict line')\n",
        "plt.legend(loc='upper left')\n",
        "plt.legend(loc='upper left')\n",
        "plt.xlabel('radio')\n",
        "plt.ylabel('sales')\n",
        "\n",
        "#plt.figure()\n",
        "plt.subplot(2,2,2)\n",
        "plt.scatter(X_train1,y_train1,c='red',marker='o', label='train point')\n",
        "plt.plot(X_test1,pre1 ,label='predict line')\n",
        "\n",
        "plt.legend('upper left')\n",
        "plt.legend(\"upper left\")\n",
        "plt.xlabel('radio')\n",
        "plt.ylabel('sales')"
      ],
      "execution_count": null,
      "outputs": [
        {
          "output_type": "execute_result",
          "data": {
            "text/plain": [
              "Text(0, 0.5, 'sales')"
            ]
          },
          "metadata": {
            "tags": []
          },
          "execution_count": 24
        },
        {
          "output_type": "display_data",
          "data": {
            "image/png": "[encoded data removed]",
            "text/plain": [
              "<Figure size 720x720 with 2 Axes>"
            ]
          },
          "metadata": {
            "tags": [],
            "needs_background": "light"
          }
        }
      ]
    },
    {
      "cell_type": "code",
      "metadata": {
        "id": "EtR0Aa9GB4vz",
        "colab_type": "code",
        "colab": {
          "base_uri": "https://localhost:8080/",
          "height": 51
        },
        "outputId": "30203c14-49c9-489c-9277-6fead5126213"
      },
      "source": [
        "print(\"the coefficent is \",model2.coef_)\n",
        "\n",
        "print(\"the inteercept is \",model2.intercept_)"
      ],
      "execution_count": 21,
      "outputs": [
        {
          "output_type": "stream",
          "text": [
            "the coefficent is  [[0.21752143]]\n",
            "the inteercept is  [9.09129466]\n"
          ],
          "name": "stdout"
        }
      ]
    },
    {
      "cell_type": "markdown",
      "metadata": {
        "id": "6VFnb7PnF3yw",
        "colab_type": "text"
      },
      "source": [
        "TV,\tradio,\tnewspaper what if all of them are at same time\t"
      ]
    },
    {
      "cell_type": "code",
      "metadata": {
        "id": "YMfDYJsWB40V",
        "colab_type": "code",
        "colab": {
          "base_uri": "https://localhost:8080/",
          "height": 204
        },
        "outputId": "bfccd621-cb1d-4586-8e51-7fb3012c56c2"
      },
      "source": [
        "x.head(5)"
      ],
      "execution_count": 22,
      "outputs": [
        {
          "output_type": "execute_result",
          "data": {
            "text/html": [
              "<div>\n",
              "<style scoped>\n",
              "    .dataframe tbody tr th:only-of-type {\n",
              "        vertical-align: middle;\n",
              "    }\n",
              "\n",
              "    .dataframe tbody tr th {\n",
              "        vertical-align: top;\n",
              "    }\n",
              "\n",
              "    .dataframe thead th {\n",
              "        text-align: right;\n",
              "    }\n",
              "</style>\n",
              "<table border=\"1\" class=\"dataframe\">\n",
              "  <thead>\n",
              "    <tr style=\"text-align: right;\">\n",
              "      <th></th>\n",
              "      <th>TV</th>\n",
              "      <th>radio</th>\n",
              "      <th>newspaper</th>\n",
              "    </tr>\n",
              "  </thead>\n",
              "  <tbody>\n",
              "    <tr>\n",
              "      <th>1</th>\n",
              "      <td>230.1</td>\n",
              "      <td>37.8</td>\n",
              "      <td>69.2</td>\n",
              "    </tr>\n",
              "    <tr>\n",
              "      <th>2</th>\n",
              "      <td>44.5</td>\n",
              "      <td>39.3</td>\n",
              "      <td>45.1</td>\n",
              "    </tr>\n",
              "    <tr>\n",
              "      <th>3</th>\n",
              "      <td>17.2</td>\n",
              "      <td>45.9</td>\n",
              "      <td>69.3</td>\n",
              "    </tr>\n",
              "    <tr>\n",
              "      <th>4</th>\n",
              "      <td>151.5</td>\n",
              "      <td>41.3</td>\n",
              "      <td>58.5</td>\n",
              "    </tr>\n",
              "    <tr>\n",
              "      <th>5</th>\n",
              "      <td>180.8</td>\n",
              "      <td>10.8</td>\n",
              "      <td>58.4</td>\n",
              "    </tr>\n",
              "  </tbody>\n",
              "</table>\n",
              "</div>"
            ],
            "text/plain": [
              "      TV  radio  newspaper\n",
              "1  230.1   37.8       69.2\n",
              "2   44.5   39.3       45.1\n",
              "3   17.2   45.9       69.3\n",
              "4  151.5   41.3       58.5\n",
              "5  180.8   10.8       58.4"
            ]
          },
          "metadata": {
            "tags": []
          },
          "execution_count": 22
        }
      ]
    },
    {
      "cell_type": "code",
      "metadata": {
        "id": "w484NreAB44B",
        "colab_type": "code",
        "colab": {
          "base_uri": "https://localhost:8080/",
          "height": 119
        },
        "outputId": "fe58f720-81fb-4a68-862a-4eac566f6095"
      },
      "source": [
        "y.head(5)"
      ],
      "execution_count": 23,
      "outputs": [
        {
          "output_type": "execute_result",
          "data": {
            "text/plain": [
              "1    22.1\n",
              "2    10.4\n",
              "3     9.3\n",
              "4    18.5\n",
              "5    12.9\n",
              "Name: sales, dtype: float64"
            ]
          },
          "metadata": {
            "tags": []
          },
          "execution_count": 23
        }
      ]
    },
    {
      "cell_type": "code",
      "metadata": {
        "id": "A3rIsoWJB5SY",
        "colab_type": "code",
        "colab": {}
      },
      "source": [
        "X_train2, X_test2, y_train2, y_test2 = train_test_split(x,y,test_size=0.2)"
      ],
      "execution_count": 24,
      "outputs": []
    },
    {
      "cell_type": "code",
      "metadata": {
        "id": "yEZeLEUNB5e5",
        "colab_type": "code",
        "colab": {
          "base_uri": "https://localhost:8080/",
          "height": 204
        },
        "outputId": "631e58e9-3eef-4c46-b0c3-d39c05b3fdf2"
      },
      "source": [
        "X_train2.head(5)"
      ],
      "execution_count": 25,
      "outputs": [
        {
          "output_type": "execute_result",
          "data": {
            "text/html": [
              "<div>\n",
              "<style scoped>\n",
              "    .dataframe tbody tr th:only-of-type {\n",
              "        vertical-align: middle;\n",
              "    }\n",
              "\n",
              "    .dataframe tbody tr th {\n",
              "        vertical-align: top;\n",
              "    }\n",
              "\n",
              "    .dataframe thead th {\n",
              "        text-align: right;\n",
              "    }\n",
              "</style>\n",
              "<table border=\"1\" class=\"dataframe\">\n",
              "  <thead>\n",
              "    <tr style=\"text-align: right;\">\n",
              "      <th></th>\n",
              "      <th>TV</th>\n",
              "      <th>radio</th>\n",
              "      <th>newspaper</th>\n",
              "    </tr>\n",
              "  </thead>\n",
              "  <tbody>\n",
              "    <tr>\n",
              "      <th>10</th>\n",
              "      <td>199.8</td>\n",
              "      <td>2.6</td>\n",
              "      <td>21.2</td>\n",
              "    </tr>\n",
              "    <tr>\n",
              "      <th>193</th>\n",
              "      <td>17.2</td>\n",
              "      <td>4.1</td>\n",
              "      <td>31.6</td>\n",
              "    </tr>\n",
              "    <tr>\n",
              "      <th>166</th>\n",
              "      <td>234.5</td>\n",
              "      <td>3.4</td>\n",
              "      <td>84.8</td>\n",
              "    </tr>\n",
              "    <tr>\n",
              "      <th>84</th>\n",
              "      <td>68.4</td>\n",
              "      <td>44.5</td>\n",
              "      <td>35.6</td>\n",
              "    </tr>\n",
              "    <tr>\n",
              "      <th>49</th>\n",
              "      <td>227.2</td>\n",
              "      <td>15.8</td>\n",
              "      <td>49.9</td>\n",
              "    </tr>\n",
              "  </tbody>\n",
              "</table>\n",
              "</div>"
            ],
            "text/plain": [
              "        TV  radio  newspaper\n",
              "10   199.8    2.6       21.2\n",
              "193   17.2    4.1       31.6\n",
              "166  234.5    3.4       84.8\n",
              "84    68.4   44.5       35.6\n",
              "49   227.2   15.8       49.9"
            ]
          },
          "metadata": {
            "tags": []
          },
          "execution_count": 25
        }
      ]
    },
    {
      "cell_type": "code",
      "metadata": {
        "id": "5iuIb8AQB5in",
        "colab_type": "code",
        "colab": {
          "base_uri": "https://localhost:8080/",
          "height": 204
        },
        "outputId": "9615500e-6d99-4183-958d-081f9ea23e32"
      },
      "source": [
        "y_train.head(5)"
      ],
      "execution_count": 26,
      "outputs": [
        {
          "output_type": "execute_result",
          "data": {
            "text/html": [
              "<div>\n",
              "<style scoped>\n",
              "    .dataframe tbody tr th:only-of-type {\n",
              "        vertical-align: middle;\n",
              "    }\n",
              "\n",
              "    .dataframe tbody tr th {\n",
              "        vertical-align: top;\n",
              "    }\n",
              "\n",
              "    .dataframe thead th {\n",
              "        text-align: right;\n",
              "    }\n",
              "</style>\n",
              "<table border=\"1\" class=\"dataframe\">\n",
              "  <thead>\n",
              "    <tr style=\"text-align: right;\">\n",
              "      <th></th>\n",
              "      <th>sales</th>\n",
              "    </tr>\n",
              "  </thead>\n",
              "  <tbody>\n",
              "    <tr>\n",
              "      <th>187</th>\n",
              "      <td>10.3</td>\n",
              "    </tr>\n",
              "    <tr>\n",
              "      <th>42</th>\n",
              "      <td>17.1</td>\n",
              "    </tr>\n",
              "    <tr>\n",
              "      <th>120</th>\n",
              "      <td>6.6</td>\n",
              "    </tr>\n",
              "    <tr>\n",
              "      <th>6</th>\n",
              "      <td>7.2</td>\n",
              "    </tr>\n",
              "    <tr>\n",
              "      <th>3</th>\n",
              "      <td>9.3</td>\n",
              "    </tr>\n",
              "  </tbody>\n",
              "</table>\n",
              "</div>"
            ],
            "text/plain": [
              "     sales\n",
              "187   10.3\n",
              "42    17.1\n",
              "120    6.6\n",
              "6      7.2\n",
              "3      9.3"
            ]
          },
          "metadata": {
            "tags": []
          },
          "execution_count": 26
        }
      ]
    },
    {
      "cell_type": "markdown",
      "metadata": {
        "id": "FZfhRrvmOKpf",
        "colab_type": "text"
      },
      "source": [
        "before do model fit method we shold check model score after that we should move further"
      ]
    },
    {
      "cell_type": "code",
      "metadata": {
        "id": "04l85csDIYYN",
        "colab_type": "code",
        "colab": {
          "base_uri": "https://localhost:8080/",
          "height": 34
        },
        "outputId": "e6aa8fc0-42ad-4aae-9011-b65a5cfbbe41"
      },
      "source": [
        "score1=cross_val_score(LinearRegression(),X_train2,y_train2,cv=10,scoring='neg_mean_squared_error')\n",
        "print(score1.mean())"
      ],
      "execution_count": 27,
      "outputs": [
        {
          "output_type": "stream",
          "text": [
            "-2.464796637645425\n"
          ],
          "name": "stdout"
        }
      ]
    },
    {
      "cell_type": "code",
      "metadata": {
        "id": "Xx4C27vjIYKD",
        "colab_type": "code",
        "colab": {}
      },
      "source": [
        "model3=LinearRegression()\n",
        "model3.fit(X_train2,y_train2)\n",
        "pred=model3.predict(X_test2)"
      ],
      "execution_count": 28,
      "outputs": []
    },
    {
      "cell_type": "code",
      "metadata": {
        "id": "jXbuBr-EIYt4",
        "colab_type": "code",
        "colab": {
          "base_uri": "https://localhost:8080/",
          "height": 34
        },
        "outputId": "5837e488-3469-4f96-8728-a96de02c3b16"
      },
      "source": [
        "mse_score1=-score1\n",
        "print(mse_score1.mean())\n",
        "\n"
      ],
      "execution_count": 29,
      "outputs": [
        {
          "output_type": "stream",
          "text": [
            "2.464796637645425\n"
          ],
          "name": "stdout"
        }
      ]
    },
    {
      "cell_type": "code",
      "metadata": {
        "id": "nNydgzZhIYyc",
        "colab_type": "code",
        "colab": {
          "base_uri": "https://localhost:8080/",
          "height": 34
        },
        "outputId": "528c6589-534f-489b-a630-90ede3eb642e"
      },
      "source": [
        "import numpy as np\n",
        "rsme_score1=np.sqrt(mse_score1)  \n",
        "print(rsme_score1.mean())"
      ],
      "execution_count": 32,
      "outputs": [
        {
          "output_type": "stream",
          "text": [
            "1.5433056631253768\n"
          ],
          "name": "stdout"
        }
      ]
    },
    {
      "cell_type": "code",
      "metadata": {
        "id": "eDLyg9AVIY2i",
        "colab_type": "code",
        "colab": {
          "base_uri": "https://localhost:8080/",
          "height": 51
        },
        "outputId": "0c9c1462-fed6-406f-e760-cad094f1daf9"
      },
      "source": [
        "print(\"the coefficent is \",model3.coef_)\n",
        "\n",
        "print(\"the inteercept is \",model3.intercept_)"
      ],
      "execution_count": 33,
      "outputs": [
        {
          "output_type": "stream",
          "text": [
            "the coefficent is  [ 0.04328129  0.19681078 -0.00665979]\n",
            "the inteercept is  3.299978753260797\n"
          ],
          "name": "stdout"
        }
      ]
    },
    {
      "cell_type": "code",
      "metadata": {
        "id": "mZUgcWp2KqZq",
        "colab_type": "code",
        "colab": {}
      },
      "source": [
        "import pandas as pd\n",
        "detail={ \"relation\":['tv vs sale','radio vs sale', \"tv, radio ,newspaper vs sales\"],\n",
        "                      \" neg-MSE error\":[-11.64,-18.49,-3.170],\n",
        "                      \"MSE\":[11.64,18.49,3.170],\n",
        "                      \"RMSE\":[3.36,4.22,1.744],\n",
        "                      \"coefficent\":[0.045,0.211,  '   0.047,0.1961, -0.0117'],\n",
        "                      \"intercept\":[7.372,9.164,2.391] }"
      ],
      "execution_count": 34,
      "outputs": []
    },
    {
      "cell_type": "code",
      "metadata": {
        "id": "y-CckVfLMqKF",
        "colab_type": "code",
        "colab": {
          "base_uri": "https://localhost:8080/",
          "height": 142
        },
        "outputId": "74771628-bd56-4d5f-9b57-7e1d06312967"
      },
      "source": [
        "details=pd.DataFrame(detail)\n",
        "details"
      ],
      "execution_count": 35,
      "outputs": [
        {
          "output_type": "execute_result",
          "data": {
            "text/html": [
              "<div>\n",
              "<style scoped>\n",
              "    .dataframe tbody tr th:only-of-type {\n",
              "        vertical-align: middle;\n",
              "    }\n",
              "\n",
              "    .dataframe tbody tr th {\n",
              "        vertical-align: top;\n",
              "    }\n",
              "\n",
              "    .dataframe thead th {\n",
              "        text-align: right;\n",
              "    }\n",
              "</style>\n",
              "<table border=\"1\" class=\"dataframe\">\n",
              "  <thead>\n",
              "    <tr style=\"text-align: right;\">\n",
              "      <th></th>\n",
              "      <th>relation</th>\n",
              "      <th>neg-MSE error</th>\n",
              "      <th>MSE</th>\n",
              "      <th>RMSE</th>\n",
              "      <th>coefficent</th>\n",
              "      <th>intercept</th>\n",
              "    </tr>\n",
              "  </thead>\n",
              "  <tbody>\n",
              "    <tr>\n",
              "      <th>0</th>\n",
              "      <td>tv vs sale</td>\n",
              "      <td>-11.64</td>\n",
              "      <td>11.64</td>\n",
              "      <td>3.360</td>\n",
              "      <td>0.045</td>\n",
              "      <td>7.372</td>\n",
              "    </tr>\n",
              "    <tr>\n",
              "      <th>1</th>\n",
              "      <td>radio vs sale</td>\n",
              "      <td>-18.49</td>\n",
              "      <td>18.49</td>\n",
              "      <td>4.220</td>\n",
              "      <td>0.211</td>\n",
              "      <td>9.164</td>\n",
              "    </tr>\n",
              "    <tr>\n",
              "      <th>2</th>\n",
              "      <td>tv, radio ,newspaper vs sales</td>\n",
              "      <td>-3.17</td>\n",
              "      <td>3.17</td>\n",
              "      <td>1.744</td>\n",
              "      <td>0.047,0.1961, -0.0117</td>\n",
              "      <td>2.391</td>\n",
              "    </tr>\n",
              "  </tbody>\n",
              "</table>\n",
              "</div>"
            ],
            "text/plain": [
              "                        relation  ...  intercept\n",
              "0                     tv vs sale  ...      7.372\n",
              "1                  radio vs sale  ...      9.164\n",
              "2  tv, radio ,newspaper vs sales  ...      2.391\n",
              "\n",
              "[3 rows x 6 columns]"
            ]
          },
          "metadata": {
            "tags": []
          },
          "execution_count": 35
        }
      ]
    },
    {
      "cell_type": "markdown",
      "metadata": {
        "id": "cteFh7VaTOk8",
        "colab_type": "text"
      },
      "source": [
        ""
      ]
    },
    {
      "cell_type": "code",
      "metadata": {
        "id": "Yt6yiNpaS4RR",
        "colab_type": "code",
        "colab": {
          "base_uri": "https://localhost:8080/",
          "height": 34
        },
        "outputId": "5b0033f1-a737-4d36-ad1a-5c082d65d679"
      },
      "source": [
        "model3.predict([[230.1,37.8,69.2]])\n"
      ],
      "execution_count": 36,
      "outputs": [
        {
          "output_type": "execute_result",
          "data": {
            "text/plain": [
              "array([20.23759458])"
            ]
          },
          "metadata": {
            "tags": []
          },
          "execution_count": 36
        }
      ]
    },
    {
      "cell_type": "markdown",
      "metadata": {
        "id": "a23bEJUAVT8K",
        "colab_type": "text"
      },
      "source": [
        "   ..................."
      ]
    },
    {
      "cell_type": "markdown",
      "metadata": {
        "id": "Fetm9nwjVTws",
        "colab_type": "text"
      },
      "source": [
        "ridge regression using skleran"
      ]
    },
    {
      "cell_type": "code",
      "metadata": {
        "id": "KmOoDBhfS4c8",
        "colab_type": "code",
        "colab": {}
      },
      "source": [
        "from sklearn.linear_model import Ridge"
      ],
      "execution_count": 37,
      "outputs": []
    },
    {
      "cell_type": "code",
      "metadata": {
        "id": "UJyA8FLSS4uf",
        "colab_type": "code",
        "colab": {
          "base_uri": "https://localhost:8080/",
          "height": 119
        },
        "outputId": "58c0816d-0338-45ca-8096-b01249dcad3a"
      },
      "source": [
        "C = [0.00036,0.00030,0.00039,0.00042,0.00045,0.0001]\n",
        "avg_scores = {}  #it is a dictionary to store the kernal and c with its score\n",
        "for cval in C:   #muiltiple for loop concep\n",
        "  cv_scores =cross_val_score(Ridge(alpha=cval),X_train2,y_train2, cv=10,scoring='neg_mean_squared_error')\n",
        "  avg_scores[str(cval)] = (cv_scores).mean()  \n",
        "\n",
        "avg_scores"
      ],
      "execution_count": 38,
      "outputs": [
        {
          "output_type": "execute_result",
          "data": {
            "text/plain": [
              "{'0.0001': -2.4647966374367445,\n",
              " '0.0003': -2.4647966370193855,\n",
              " '0.00036': -2.4647966368941767,\n",
              " '0.00039': -2.464796636831573,\n",
              " '0.00042': -2.4647966367689684,\n",
              " '0.00045': -2.4647966367063647}"
            ]
          },
          "metadata": {
            "tags": []
          },
          "execution_count": 38
        }
      ]
    },
    {
      "cell_type": "code",
      "metadata": {
        "id": "hQ2shrw8M1zx",
        "colab_type": "code",
        "colab": {}
      },
      "source": [
        "model4=Ridge(alpha=0.000045)\n",
        "\n",
        "\n",
        "model4.fit(X_train2,y_train2)\n",
        "predi=model4.predict(X_test2)"
      ],
      "execution_count": 39,
      "outputs": []
    },
    {
      "cell_type": "code",
      "metadata": {
        "id": "1uCL8yYpOaSm",
        "colab_type": "code",
        "colab": {
          "base_uri": "https://localhost:8080/",
          "height": 34
        },
        "outputId": "7b2678a6-1a79-47f7-ec50-f439a01bbc03"
      },
      "source": [
        "model4.predict([[230.1,37.8,69.2]])"
      ],
      "execution_count": 40,
      "outputs": [
        {
          "output_type": "execute_result",
          "data": {
            "text/plain": [
              "array([20.23759458])"
            ]
          },
          "metadata": {
            "tags": []
          },
          "execution_count": 40
        }
      ]
    },
    {
      "cell_type": "markdown",
      "metadata": {
        "id": "_0_lHWncSOO3",
        "colab_type": "text"
      },
      "source": [
        "lasso regression\n"
      ]
    },
    {
      "cell_type": "code",
      "metadata": {
        "colab_type": "code",
        "id": "Fosf_xXqSYqx",
        "colab": {}
      },
      "source": [
        "from sklearn.linear_model import Lasso"
      ],
      "execution_count": 41,
      "outputs": []
    },
    {
      "cell_type": "code",
      "metadata": {
        "id": "bV-ww2SSSJtk",
        "colab_type": "code",
        "colab": {
          "base_uri": "https://localhost:8080/",
          "height": 119
        },
        "outputId": "3942aa0c-a6f5-445c-a50f-9a97fa0feaab"
      },
      "source": [
        "C1 = [0.00036,0.00030,0.00039,0.00042,0.00045,0.0001]\n",
        "lasso_avg_scores = {}  #it is a dictionary to store the kernal and c with its score\n",
        "for cval1 in C1:   #muiltiple for loop concep\n",
        "  lasso_cv_scores =cross_val_score(Lasso(alpha=cval1),X_train2,y_train2, cv=10,scoring='neg_mean_squared_error')\n",
        "  lasso_avg_scores[str(cval1)] = (lasso_cv_scores).mean()  \n",
        "\n",
        "lasso_avg_scores"
      ],
      "execution_count": 42,
      "outputs": [
        {
          "output_type": "execute_result",
          "data": {
            "text/plain": [
              "{'0.0001': -2.4647971518895972,\n",
              " '0.0003': -2.4647949928429504,\n",
              " '0.00036': -2.4647947972575563,\n",
              " '0.00039': -2.464794699492695,\n",
              " '0.00042': -2.464794496186888,\n",
              " '0.00045': -2.4647943984615432}"
            ]
          },
          "metadata": {
            "tags": []
          },
          "execution_count": 42
        }
      ]
    },
    {
      "cell_type": "code",
      "metadata": {
        "colab_type": "code",
        "id": "vC82Mlw2SUj5",
        "colab": {}
      },
      "source": [
        "\n",
        "model4=Lasso(alpha=0.000045)\n",
        "model4.fit(X_train2,y_train2)\n",
        "predi=model4.predict(X_test2)"
      ],
      "execution_count": 43,
      "outputs": []
    },
    {
      "cell_type": "code",
      "metadata": {
        "id": "zglbZzOBSJOT",
        "colab_type": "code",
        "colab": {
          "base_uri": "https://localhost:8080/",
          "height": 34
        },
        "outputId": "3bc11853-d07e-4adf-db86-9760a391ac02"
      },
      "source": [
        "model4.predict([[230.1,37.8,69.2]])"
      ],
      "execution_count": 44,
      "outputs": [
        {
          "output_type": "execute_result",
          "data": {
            "text/plain": [
              "array([20.23759673])"
            ]
          },
          "metadata": {
            "tags": []
          },
          "execution_count": 44
        }
      ]
    },
    {
      "cell_type": "code",
      "metadata": {
        "id": "zmXieKaXWhDw",
        "colab_type": "code",
        "colab": {}
      },
      "source": [
        ""
      ],
      "execution_count": null,
      "outputs": []
    },
    {
      "cell_type": "code",
      "metadata": {
        "id": "-H5uALVGWhIF",
        "colab_type": "code",
        "colab": {}
      },
      "source": [
        ""
      ],
      "execution_count": null,
      "outputs": []
    },
    {
      "cell_type": "code",
      "metadata": {
        "id": "dkyULdhpWhLW",
        "colab_type": "code",
        "colab": {}
      },
      "source": [
        ""
      ],
      "execution_count": null,
      "outputs": []
    },
    {
      "cell_type": "code",
      "metadata": {
        "id": "1bGjZ9DeWhPx",
        "colab_type": "code",
        "colab": {}
      },
      "source": [
        ""
      ],
      "execution_count": null,
      "outputs": []
    },
    {
      "cell_type": "code",
      "metadata": {
        "id": "q3mwFrEAWhWD",
        "colab_type": "code",
        "colab": {}
      },
      "source": [
        ""
      ],
      "execution_count": null,
      "outputs": []
    },
    {
      "cell_type": "code",
      "metadata": {
        "id": "_eg-KWF5WhUE",
        "colab_type": "code",
        "colab": {}
      },
      "source": [
        ""
      ],
      "execution_count": null,
      "outputs": []
    }
  ]
}